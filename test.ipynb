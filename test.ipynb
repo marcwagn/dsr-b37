{
 "cells": [
  {
   "cell_type": "code",
   "execution_count": 4,
   "id": "6d0ea835-6a77-408f-b826-9a7e958876cf",
   "metadata": {},
   "outputs": [],
   "source": [
    "import numpy as np\n",
    "\n",
    "A = np.array([[1,2,3,4],\n",
    "             [5,6,7,8]])"
   ]
  },
  {
   "cell_type": "code",
   "execution_count": 6,
   "id": "c3b2500d-9ee3-4bff-b211-402b299251a2",
   "metadata": {},
   "outputs": [
    {
     "name": "stdout",
     "output_type": "stream",
     "text": [
      "[[1 2 3 4]\n",
      " [5 6 7 8]]\n"
     ]
    }
   ],
   "source": [
    "print(A)"
   ]
  }
 ],
 "metadata": {
  "kernelspec": {
   "display_name": "dsr",
   "language": "python",
   "name": "dsr"
  },
  "language_info": {
   "codemirror_mode": {
    "name": "ipython",
    "version": 3
   },
   "file_extension": ".py",
   "mimetype": "text/x-python",
   "name": "python",
   "nbconvert_exporter": "python",
   "pygments_lexer": "ipython3",
   "version": "3.11.5"
  }
 },
 "nbformat": 4,
 "nbformat_minor": 5
}
